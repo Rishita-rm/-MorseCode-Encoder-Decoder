{
  "nbformat": 4,
  "nbformat_minor": 0,
  "metadata": {
    "colab": {
      "provenance": []
    },
    "kernelspec": {
      "name": "python3",
      "display_name": "Python 3"
    },
    "language_info": {
      "name": "python"
    }
  },
  "cells": [
    {
      "cell_type": "markdown",
      "source": [
        "#*Project 1: Morse Code*#"
      ],
      "metadata": {
        "id": "zu4T2WbYmwjX"
      }
    },
    {
      "cell_type": "code",
      "execution_count": null,
      "metadata": {
        "id": "BX7J2-ovmsSV"
      },
      "outputs": [],
      "source": [
        "!pip install gradio pandas simpleaudio matplotlib"
      ]
    },
    {
      "cell_type": "code",
      "source": [
        "import gradio as gr\n",
        "import pandas as pd\n",
        "import simpleaudio as sa\n",
        "import matplotlib.pyplot as plt\n",
        "import os\n",
        "\n",
        "# Morse Code Mapping\n",
        "morse_code_map = {\n",
        "    \"0\": \"-----\", \"1\": \".----\", \"2\": \"..---\", \"3\": \"...--\", \"4\": \"....-\",\n",
        "    \"5\": \".....\", \"6\": \"-....\", \"7\": \"--...\", \"8\": \"---..\", \"9\": \"----.\",\n",
        "    \"A\": \".-\", \"B\": \"-...\", \"C\": \"-.-.\", \"D\": \"-..\", \"E\": \".\", \"F\": \"..-.\",\n",
        "    \"G\": \"--.\", \"H\": \"....\", \"I\": \"..\", \"J\": \".---\", \"K\": \"-.-\", \"L\": \".-..\",\n",
        "    \"M\": \"--\", \"N\": \"-.\", \"O\": \"---\", \"P\": \".--.\", \"Q\": \"--.-\", \"R\": \".-.\",\n",
        "    \"S\": \"...\", \"T\": \"-\", \"U\": \"..-\", \"V\": \"...-\", \"W\": \".--\", \"X\": \"-..-\",\n",
        "    \"Y\": \"-.--\", \"Z\": \"--..\", \" \": \"/\"\n",
        "}\n",
        "\n",
        "# Reverse Mapping\n",
        "morse_to_text_map = {v: k for k, v in morse_code_map.items()}\n",
        "\n",
        "# Encode Text to Morse Code\n",
        "def generate_morse(input_text):\n",
        "    input_text = input_text.strip().upper()\n",
        "    try:\n",
        "        morse_code = \" \".join(morse_code_map[char] for char in input_text)\n",
        "        return morse_code\n",
        "    except KeyError:\n",
        "        return \"Error: Invalid characters in input. Only letters, numbers, and spaces are supported.\"\n",
        "\n",
        "# Decode Morse Code to Text\n",
        "def interpret_morse(input_morse):\n",
        "    input_morse = input_morse.strip()\n",
        "    try:\n",
        "        words = input_morse.split(\" / \")\n",
        "        decoded_words = [\"\".join(morse_to_text_map[char] for char in word.split()) for word in words]\n",
        "        return \" \".join(decoded_words)\n",
        "    except KeyError:\n",
        "        return \"Error: Invalid Morse Code entered. Please check input format.\"\n",
        "\n",
        "# Generate Morse Code Sound\n",
        "def play_morse_audio(morse_code):\n",
        "    dot = sa.WaveObject.from_wave_file(\"dot.wav\")\n",
        "    dash = sa.WaveObject.from_wave_file(\"dash.wav\")\n",
        "    for symbol in morse_code:\n",
        "        if symbol == \".\":\n",
        "            dot.play().wait_done()\n",
        "        elif symbol == \"-\":\n",
        "            dash.play().wait_done()\n",
        "        elif symbol == \" \":\n",
        "            continue\n",
        "\n",
        "# Logging Sentiment Data\n",
        "log_file = \"morse_log.csv\"\n",
        "def log_conversion(input_text, output_text, mode):\n",
        "    df = pd.DataFrame([[mode, input_text, output_text]], columns=[\"Mode\", \"Input\", \"Output\"])\n",
        "    df.to_csv(log_file, mode='a', header=not os.path.exists(log_file), index=False)\n",
        "\n",
        "# Data Visualization - Frequency Analysis\n",
        "def visualize_logs():\n",
        "    if os.path.exists(log_file):\n",
        "        df = pd.read_csv(log_file)\n",
        "        counts = df[\"Mode\"].value_counts()\n",
        "        counts.plot(kind='bar', title='Usage Frequency')\n",
        "        plt.show()\n",
        "    else:\n",
        "        return \"No data to display.\"\n",
        "\n",
        "# Gradio Interface\n",
        "def morse_interface(text, mode, play_audio):\n",
        "    if mode == \"Text to Morse\":\n",
        "        result = generate_morse(text)\n",
        "        if play_audio:\n",
        "            play_morse_audio(result)\n",
        "    else:\n",
        "        result = interpret_morse(text)\n",
        "    log_conversion(text, result, mode)\n",
        "    return result\n",
        "\n",
        "iface = gr.Interface(\n",
        "    fn=morse_interface,\n",
        "    inputs=[\n",
        "        gr.Textbox(label=\"Enter Text / Morse Code\"),\n",
        "        gr.Radio([\"Text to Morse\", \"Morse to Text\"], label=\"Select Mode\"),\n",
        "        gr.Checkbox(label=\"Play Morse Code Audio\")\n",
        "    ],\n",
        "    outputs=\"text\",\n",
        "    title=\"Morse Code Encoder & Decoder\",\n",
        "    description=\"Convert text to Morse code and vice versa. Supports spaces, numbers, and sound output.\",\n",
        ")\n",
        "\n",
        "iface.launch()\n"
      ],
      "metadata": {
        "id": "BzH2ebsVmz-K"
      },
      "execution_count": null,
      "outputs": []
    }
  ]
}